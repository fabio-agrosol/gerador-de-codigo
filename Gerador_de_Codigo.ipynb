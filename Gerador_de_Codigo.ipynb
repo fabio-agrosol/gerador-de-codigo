{
  "nbformat": 4,
  "nbformat_minor": 0,
  "metadata": {
    "colab": {
      "provenance": [],
      "authorship_tag": "ABX9TyMYsviqY+7LIxWMCsiv4E1u",
      "include_colab_link": true
    },
    "kernelspec": {
      "name": "python3",
      "display_name": "Python 3"
    },
    "language_info": {
      "name": "python"
    }
  },
  "cells": [
    {
      "cell_type": "markdown",
      "metadata": {
        "id": "view-in-github",
        "colab_type": "text"
      },
      "source": [
        "<a href=\"https://colab.research.google.com/github/fabio-agrosol/gerador-de-codigo/blob/main/Gerador_de_Codigo.ipynb\" target=\"_parent\"><img src=\"https://colab.research.google.com/assets/colab-badge.svg\" alt=\"Open In Colab\"/></a>"
      ]
    },
    {
      "cell_type": "code",
      "execution_count": 2,
      "metadata": {
        "id": "jYASZkEGInc7"
      },
      "outputs": [],
      "source": [
        "#Instalando o SDK do Google\n",
        "!pip install -q -U google-generativeai"
      ]
    },
    {
      "cell_type": "code",
      "source": [
        "import re\n",
        "import google.generativeai as genai\n",
        "from google.colab import userdata\n",
        "\n",
        "GOOGLE_API_KEY = userdata.get('GOOGLE_API_KEY')\n",
        "genai.configure(api_key=GOOGLE_API_KEY)"
      ],
      "metadata": {
        "id": "vj--T4JdKkvS"
      },
      "execution_count": 3,
      "outputs": []
    },
    {
      "cell_type": "code",
      "source": [
        "for m in genai.list_models():\n",
        "  if 'generateContent' in m.supported_generation_methods:\n",
        "    print(m.name)"
      ],
      "metadata": {
        "colab": {
          "base_uri": "https://localhost:8080/",
          "height": 144
        },
        "id": "48ZjedjfKpJA",
        "outputId": "24f35f50-357b-44bc-bd5c-12416a56825e"
      },
      "execution_count": 4,
      "outputs": [
        {
          "output_type": "stream",
          "name": "stdout",
          "text": [
            "models/gemini-1.0-pro\n",
            "models/gemini-1.0-pro-001\n",
            "models/gemini-1.0-pro-latest\n",
            "models/gemini-1.0-pro-vision-latest\n",
            "models/gemini-1.5-pro-latest\n",
            "models/gemini-pro\n",
            "models/gemini-pro-vision\n"
          ]
        }
      ]
    },
    {
      "cell_type": "code",
      "source": [
        "generation_config = {\n",
        "  \"candidate_count\": 1,\n",
        "  \"temperature\": 0.5,\n",
        "}"
      ],
      "metadata": {
        "id": "DFpMFVUVKxK4"
      },
      "execution_count": 5,
      "outputs": []
    },
    {
      "cell_type": "code",
      "source": [
        "safety_settings={\n",
        "    'HATE': 'BLOCK_NONE',\n",
        "    'HARASSMENT': 'BLOCK_NONE',\n",
        "    'SEXUAL' : 'BLOCK_NONE',\n",
        "    'DANGEROUS' : 'BLOCK_NONE'\n",
        "    }"
      ],
      "metadata": {
        "id": "2TKrCXQ8K0yw"
      },
      "execution_count": 6,
      "outputs": []
    },
    {
      "cell_type": "code",
      "source": [
        "model = genai.GenerativeModel(model_name='gemini-1.0-pro',\n",
        "                                  generation_config=generation_config,\n",
        "                                  safety_settings=safety_settings,)\n",
        "#chat = model.start_chat(history=[])\n",
        "chat = model.start_chat()"
      ],
      "metadata": {
        "id": "63wCeBQ8LA5Y"
      },
      "execution_count": 7,
      "outputs": []
    },
    {
      "cell_type": "code",
      "source": [
        "def gravar_arquivo(nome_arquivo, codigo):\n",
        "    arquivo = open(nome_arquivo, \"w\")\n",
        "    arquivo.write(remover_primeira_ultima_linha(codigo))\n",
        "    arquivo.close()\n",
        "    print(f\"Nome do arquivo: {nome_arquivo}\")"
      ],
      "metadata": {
        "id": "PIVmy03EfCWt"
      },
      "execution_count": 8,
      "outputs": []
    },
    {
      "cell_type": "code",
      "source": [
        "def extrair_nome_do_arquivo(texto):\n",
        "  \"\"\"\n",
        "  Extrai o nome do arquivo de um texto, exemplo:\n",
        "  O nome do arquivo deve ser **Fibonacci.java**.\n",
        "  \"\"\"\n",
        "  regex = r\"\\*\\*(.*?)\\*\\*\"\n",
        "  resultado = re.search(regex, texto)\n",
        "  nome_arquivo = \"\"\n",
        "  if resultado:\n",
        "    nome_arquivo = resultado.group(1)\n",
        "\n",
        "  return nome_arquivo"
      ],
      "metadata": {
        "id": "ppcdUyssdfaN"
      },
      "execution_count": 9,
      "outputs": []
    },
    {
      "cell_type": "code",
      "source": [
        "def remover_primeira_ultima_linha(texto_multi_linha):\n",
        "  \"\"\"\n",
        "  Remove a primeira e a última linha de uma string multi-linha.\n",
        "\n",
        "  Argumentos:\n",
        "    texto_multi_linha (str): A string multi-linha a ser processada.\n",
        "\n",
        "  Retorna:\n",
        "    str: A string multi-linha com a primeira e a última linha removidas.\n",
        "  \"\"\"\n",
        "  # Dividindo a string em linhas\n",
        "  linhas = texto_multi_linha.splitlines()\n",
        "  # Removendo a primeira linha\n",
        "  if linhas:\n",
        "    linhas = linhas[1:]\n",
        "\n",
        "  #Removendo a cadeia ```\n",
        "  resultado = \"\\n\".join(linhas).replace(\"```\", \"\")\n",
        "  return resultado"
      ],
      "metadata": {
        "id": "ivXS-S3FTunW"
      },
      "execution_count": 10,
      "outputs": []
    },
    {
      "cell_type": "code",
      "source": [
        "def gerar_classe(chat, comentario):\n",
        "  descricao = input('Descreva a classe: ')\n",
        "  linguagem = input('Qual linguagem (Python, Java, C#, Delphi, etc.): ')\n",
        "  if comentario:\n",
        "    prompt = 'Usando a linguagem ' + linguagem + ', gere um classe com comentário no código fonte, para ' + descricao + '. '\n",
        "  else:\n",
        "    prompt = 'Usando a linguagem ' + linguagem + ', gere um classe  para ' + descricao\n",
        "  codigo = chat.send_message(prompt)\n",
        "  nome_arquivo_resposta = chat.send_message('Quero gravar o código gerado, qual o nome do arquivo?')\n",
        "  nome_arquivo = extrair_nome_do_arquivo(nome_arquivo_resposta.text)\n",
        "  # Salvando o código gerado em um arquivo\n",
        "  if nome_arquivo != \"\":\n",
        "    gravar_arquivo(nome_arquivo, codigo.text)"
      ],
      "metadata": {
        "id": "Jab5x0ZaM5cQ"
      },
      "execution_count": 36,
      "outputs": []
    },
    {
      "cell_type": "code",
      "source": [
        "def imprimir_opcoes():\n",
        "  print(\"\\n 1 - Gerar apenas código\")\n",
        "  print(\"\\n 2 - Gerar apenas código e comentário\")\n",
        "  print(\"\\n fim - Terminar\\n\")"
      ],
      "metadata": {
        "id": "oL6KfwB6MC5Y"
      },
      "execution_count": 31,
      "outputs": []
    },
    {
      "cell_type": "code",
      "source": [
        "opcao = \"\"\n",
        "while opcao != \"fim\":\n",
        "  imprimir_opcoes()\n",
        "  opcao = input('\\nEscola uma opção: ')\n",
        "  if opcao == '1':\n",
        "    gerar_classe(chat, False)\n",
        "  elif opcao == '2':\n",
        "    gerar_classe(chat, True)\n",
        "  elif opcao == 'fim':\n",
        "    print(\"Encerrando o programa.\")\n",
        "  else:\n",
        "    # Código para opções inválidas\n",
        "    print(\"Opção inválida.\")\n"
      ],
      "metadata": {
        "colab": {
          "base_uri": "https://localhost:8080/",
          "height": 852
        },
        "id": "zv5kvdikK3oZ",
        "outputId": "d566ff54-a1c4-4c24-8821-c6d6c2919696"
      },
      "execution_count": 37,
      "outputs": [
        {
          "output_type": "stream",
          "name": "stdout",
          "text": [
            "\n",
            " 1 - Gerar apenas código\n",
            "\n",
            " 2 - Gerar apenas código e comentário\n",
            "\n",
            " fim - Terminar\n",
            "\n",
            "\n",
            "Escola uma opção: 1\n",
            "Descreva a classe: Calcule a sequência de Fibonacci\n",
            "Qual linguagem (Python, Java, C#, Delphi, etc.): Python\n",
            "Nome do arquivo: fibonacci.py\n",
            "\n",
            " 1 - Gerar apenas código\n",
            "\n",
            " 2 - Gerar apenas código e comentário\n",
            "\n",
            " fim - Terminar\n",
            "\n",
            "\n",
            "Escola uma opção: 2\n",
            "Descreva a classe: Calcule a sequência de Fibonacci\n",
            "Qual linguagem (Python, Java, C#, Delphi, etc.): Python\n",
            "Nome do arquivo: fibonacci.py\n",
            "\n",
            " 1 - Gerar apenas código\n",
            "\n",
            " 2 - Gerar apenas código e comentário\n",
            "\n",
            " fim - Terminar\n",
            "\n",
            "\n",
            "Escola uma opção: 2\n",
            "Descreva a classe: Calcule a sequência de Fibonacci\n",
            "Qual linguagem (Python, Java, C#, Delphi, etc.): java\n",
            "Nome do arquivo: Fibonacci.java\n",
            "\n",
            " 1 - Gerar apenas código\n",
            "\n",
            " 2 - Gerar apenas código e comentário\n",
            "\n",
            " fim - Terminar\n",
            "\n",
            "\n",
            "Escola uma opção: fim\n",
            "Encerrando o programa.\n"
          ]
        }
      ]
    },
    {
      "cell_type": "code",
      "source": [],
      "metadata": {
        "id": "ys43wxDPK7XZ"
      },
      "execution_count": null,
      "outputs": []
    }
  ]
}